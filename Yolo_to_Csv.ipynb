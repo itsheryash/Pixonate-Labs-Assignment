{
 "cells": [
  {
   "cell_type": "code",
   "execution_count": 1,
   "id": "e4aa15d6",
   "metadata": {},
   "outputs": [],
   "source": [
    "import os\n",
    "import csv\n",
    "\n",
    "images_dir = r\"C:\\Users\\lapto\\Pixonate Project\\Dataset_Augemented\\train\\images\"\n",
    "labels_dir = r\"C:\\Users\\lapto\\Pixonate Project\\Dataset_Augemented\\train\\labels\"\n",
    "output_csv = \"labels_Augmented.csv\"\n",
    "\n",
    "rows = [[\"filename\", \"label\"]]\n",
    "\n",
    "for img_file in os.listdir(images_dir):\n",
    "    if not img_file.endswith(\".jpg\"):\n",
    "        continue\n",
    "\n",
    "    label_file = img_file.replace(\".jpg\", \".txt\")\n",
    "    label_path = os.path.join(labels_dir, label_file)\n",
    "\n",
    "    label = 1 if os.path.exists(label_path) and os.path.getsize(label_path) > 0 else 0\n",
    "    rows.append([img_file, label])\n",
    "\n",
    "with open(output_csv, \"w\", newline=\"\") as f:\n",
    "    writer = csv.writer(f)\n",
    "    writer.writerows(rows)\n"
   ]
  }
 ],
 "metadata": {
  "kernelspec": {
   "display_name": "Python 3 (ipykernel)",
   "language": "python",
   "name": "python3"
  },
  "language_info": {
   "codemirror_mode": {
    "name": "ipython",
    "version": 3
   },
   "file_extension": ".py",
   "mimetype": "text/x-python",
   "name": "python",
   "nbconvert_exporter": "python",
   "pygments_lexer": "ipython3",
   "version": "3.11.5"
  }
 },
 "nbformat": 4,
 "nbformat_minor": 5
}
