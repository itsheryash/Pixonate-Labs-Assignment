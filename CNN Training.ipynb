{
 "cells": [
  {
   "cell_type": "code",
   "execution_count": 1,
   "id": "fb186f1b",
   "metadata": {},
   "outputs": [],
   "source": [
    "import pandas as pd\n",
    "import os\n",
    "import numpy as np\n",
    "import tensorflow as tf\n",
    "from tensorflow.keras.preprocessing.image import load_img, img_to_array\n",
    "from sklearn.model_selection import train_test_split"
   ]
  },
  {
   "cell_type": "code",
   "execution_count": 2,
   "id": "6350309d",
   "metadata": {},
   "outputs": [],
   "source": [
    "csv_path = 'labels.csv'\n",
    "image_dir ='C:/Users/lapto/Pixonate Project/Dataset_yolo/images/train/'\n",
    "df = pd.read_csv(csv_path)\n",
    "images = []\n",
    "labels = []\n",
    "for i, row in df.iterrows():\n",
    "    img_path = os.path.join(image_dir, row['filename'])\n",
    "    img = load_img(img_path, target_size=(224, 224))\n",
    "    img = img_to_array(img) / 255.0\n",
    "    images.append(img)\n",
    "    labels.append(row['label'])\n",
    "X = np.array(images)\n",
    "y = np.array(labels)"
   ]
  },
  {
   "cell_type": "code",
   "execution_count": 3,
   "id": "91e72374",
   "metadata": {},
   "outputs": [],
   "source": [
    "X_train, X_val, y_train, y_val = train_test_split(X, y, test_size=0.2, random_state=42)"
   ]
  },
  {
   "cell_type": "code",
   "execution_count": 4,
   "id": "6be7db4f",
   "metadata": {},
   "outputs": [],
   "source": [
    "model = tf.keras.Sequential([\n",
    "    tf.keras.layers.Conv2D(32, (3, 3), activation='relu', input_shape=(224, 224, 3)),\n",
    "    tf.keras.layers.MaxPooling2D(2, 2),\n",
    "    tf.keras.layers.Conv2D(64, (3, 3), activation='relu'),\n",
    "    tf.keras.layers.MaxPooling2D(2, 2),\n",
    "    tf.keras.layers.Flatten(),\n",
    "    tf.keras.layers.Dense(128, activation='relu'),\n",
    "    tf.keras.layers.Dense(1, activation='sigmoid')\n",
    "])"
   ]
  },
  {
   "cell_type": "code",
   "execution_count": 5,
   "id": "195c3aa1",
   "metadata": {},
   "outputs": [
    {
     "name": "stdout",
     "output_type": "stream",
     "text": [
      "Epoch 1/15\n",
      "3/3 [==============================] - 6s 1s/step - loss: 1.7298 - accuracy: 0.5227 - val_loss: 3.6829 - val_accuracy: 0.2727\n",
      "Epoch 2/15\n",
      "3/3 [==============================] - 3s 884ms/step - loss: 0.8751 - accuracy: 0.6364 - val_loss: 0.6624 - val_accuracy: 0.7273\n",
      "Epoch 3/15\n",
      "3/3 [==============================] - 3s 870ms/step - loss: 0.9744 - accuracy: 0.4545 - val_loss: 0.6030 - val_accuracy: 0.7273\n",
      "Epoch 4/15\n",
      "3/3 [==============================] - 3s 893ms/step - loss: 0.7110 - accuracy: 0.5227 - val_loss: 0.6970 - val_accuracy: 0.4545\n",
      "Epoch 5/15\n",
      "3/3 [==============================] - 3s 858ms/step - loss: 0.6750 - accuracy: 0.6591 - val_loss: 0.7078 - val_accuracy: 0.2727\n",
      "Epoch 6/15\n",
      "3/3 [==============================] - 3s 899ms/step - loss: 0.6682 - accuracy: 0.6591 - val_loss: 0.6696 - val_accuracy: 0.7273\n",
      "Epoch 7/15\n",
      "3/3 [==============================] - 3s 884ms/step - loss: 0.6581 - accuracy: 0.6591 - val_loss: 0.6824 - val_accuracy: 0.6364\n",
      "Epoch 8/15\n",
      "3/3 [==============================] - 3s 865ms/step - loss: 0.6332 - accuracy: 0.8409 - val_loss: 0.7106 - val_accuracy: 0.4545\n",
      "Epoch 9/15\n",
      "3/3 [==============================] - 3s 889ms/step - loss: 0.6138 - accuracy: 0.6591 - val_loss: 0.6935 - val_accuracy: 0.5455\n",
      "Epoch 10/15\n",
      "3/3 [==============================] - 3s 881ms/step - loss: 0.5885 - accuracy: 0.7273 - val_loss: 0.7530 - val_accuracy: 0.5455\n",
      "Epoch 11/15\n",
      "3/3 [==============================] - 3s 896ms/step - loss: 0.4942 - accuracy: 0.8182 - val_loss: 0.6325 - val_accuracy: 0.7273\n",
      "Epoch 12/15\n",
      "3/3 [==============================] - 3s 884ms/step - loss: 0.4775 - accuracy: 0.7955 - val_loss: 0.5890 - val_accuracy: 0.7273\n",
      "Epoch 13/15\n",
      "3/3 [==============================] - 3s 874ms/step - loss: 0.4761 - accuracy: 0.7727 - val_loss: 1.2893 - val_accuracy: 0.2727\n",
      "Epoch 14/15\n",
      "3/3 [==============================] - 2s 841ms/step - loss: 0.5189 - accuracy: 0.6364 - val_loss: 0.9234 - val_accuracy: 0.5455\n",
      "Epoch 15/15\n",
      "3/3 [==============================] - 3s 913ms/step - loss: 0.4153 - accuracy: 0.8409 - val_loss: 0.5944 - val_accuracy: 0.7273\n"
     ]
    },
    {
     "data": {
      "text/plain": [
       "<keras.src.callbacks.History at 0x2ccd9985c50>"
      ]
     },
     "execution_count": 5,
     "metadata": {},
     "output_type": "execute_result"
    }
   ],
   "source": [
    "model.compile(optimizer='adam',\n",
    "              loss='binary_crossentropy',\n",
    "              metrics=['accuracy'])\n",
    "model.fit(X_train, y_train, epochs=15, validation_data=(X_val, y_val), batch_size=16)"
   ]
  },
  {
   "cell_type": "code",
   "execution_count": 6,
   "id": "d63b96d8",
   "metadata": {},
   "outputs": [
    {
     "name": "stdout",
     "output_type": "stream",
     "text": [
      "1/1 [==============================] - 0s 249ms/step - loss: 0.5944 - accuracy: 0.7273\n",
      "Validation Accuracy: 72.73%\n"
     ]
    }
   ],
   "source": [
    "loss, acc = model.evaluate(X_val, y_val)\n",
    "print(f\"Validation Accuracy: {acc*100:.2f}%\")"
   ]
  },
  {
   "cell_type": "code",
   "execution_count": 7,
   "id": "9d29af05",
   "metadata": {},
   "outputs": [],
   "source": [
    "def predict_defect(image_path):\n",
    "    img = load_img(image_path, target_size=(224, 224))\n",
    "    img_array = img_to_array(img) / 255.0\n",
    "    img_array = np.expand_dims(img_array, axis=0)\n",
    "    prediction = model.predict(img_array)[0][0]\n",
    "    if prediction > 0.5:\n",
    "        print(\"Defective\")\n",
    "    else:\n",
    "        print(\"Normal\")"
   ]
  },
  {
   "cell_type": "code",
   "execution_count": 8,
   "id": "403b4bc9",
   "metadata": {},
   "outputs": [
    {
     "name": "stdout",
     "output_type": "stream",
     "text": [
      "1/1 [==============================] - 0s 313ms/step\n",
      "Normal\n"
     ]
    }
   ],
   "source": [
    "predict_defect(r\"C:\\Users\\lapto\\Pixonate Project\\Dataset_CNN\\normal\\image0000519.png\")"
   ]
  },
  {
   "cell_type": "code",
   "execution_count": 9,
   "id": "8981a074",
   "metadata": {},
   "outputs": [
    {
     "name": "stdout",
     "output_type": "stream",
     "text": [
      "1/1 [==============================] - 0s 78ms/step\n",
      "Defective\n"
     ]
    }
   ],
   "source": [
    "predict_defect(r\"C:\\Users\\lapto\\Pixonate Project\\Dataset_CNN\\defected\\image0000402.png\")"
   ]
  },
  {
   "cell_type": "code",
   "execution_count": null,
   "id": "b067002c",
   "metadata": {},
   "outputs": [],
   "source": []
  },
  {
   "cell_type": "code",
   "execution_count": null,
   "id": "96f1585c",
   "metadata": {},
   "outputs": [],
   "source": []
  }
 ],
 "metadata": {
  "kernelspec": {
   "display_name": "Python (YOLO GPU)",
   "language": "python",
   "name": "yolo_env"
  },
  "language_info": {
   "codemirror_mode": {
    "name": "ipython",
    "version": 3
   },
   "file_extension": ".py",
   "mimetype": "text/x-python",
   "name": "python",
   "nbconvert_exporter": "python",
   "pygments_lexer": "ipython3",
   "version": "3.11.4"
  }
 },
 "nbformat": 4,
 "nbformat_minor": 5
}
